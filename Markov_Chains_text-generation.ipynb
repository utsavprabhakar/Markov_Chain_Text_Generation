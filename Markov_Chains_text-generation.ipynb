{
 "cells": [
  {
   "cell_type": "code",
   "execution_count": 2,
   "metadata": {},
   "outputs": [],
   "source": [
    "import numpy as np\n",
    "import random"
   ]
  },
  {
   "cell_type": "markdown",
   "metadata": {},
   "source": [
    "# Reading from the txt file"
   ]
  },
  {
   "cell_type": "code",
   "execution_count": 3,
   "metadata": {},
   "outputs": [],
   "source": [
    "f = open('input.txt')\n",
    "ds = f.read()\n",
    "f.close()"
   ]
  },
  {
   "cell_type": "code",
   "execution_count": 7,
   "metadata": {},
   "outputs": [
    {
     "name": "stdout",
     "output_type": "stream",
     "text": [
      "3382026\n",
      "<type 'str'>\n"
     ]
    }
   ],
   "source": [
    "print len(ds)\n",
    "print type(ds)\n",
    "\n",
    "start = 2500\n",
    "length = 50000\n",
    "\n",
    "data = ' '.join([ix.strip() for ix in ds[start:start+length].split('\\n')]).lower()\n"
   ]
  },
  {
   "cell_type": "markdown",
   "metadata": {},
   "source": [
    "# Adding data in set to obtain all unique chars"
   ]
  },
  {
   "cell_type": "code",
   "execution_count": 8,
   "metadata": {},
   "outputs": [
    {
     "name": "stdout",
     "output_type": "stream",
     "text": [
      "45844\n",
      "48\n",
      "set(['!', ' ', '\"', \"'\", ')', '(', '-', ',', '.', '1', '0', '3', '2', '5', '4', '7', '6', '9', '8', ';', ':', '?', 'a', 'c', 'b', 'e', 'd', 'g', 'f', 'i', 'h', 'k', 'j', 'm', 'l', 'o', 'n', 'q', 'p', 's', 'r', 'u', 't', 'w', 'v', 'y', 'x', 'z'])\n"
     ]
    }
   ],
   "source": [
    "print len(data)\n",
    "\n",
    "x = set()\n",
    "for ix in data:\n",
    "    x.add(ix)\n",
    "print len(x)\n",
    "print x"
   ]
  },
  {
   "cell_type": "markdown",
   "metadata": {},
   "source": [
    "# Transition Matrix and order initialisation"
   ]
  },
  {
   "cell_type": "code",
   "execution_count": 18,
   "metadata": {},
   "outputs": [],
   "source": [
    "## Transition Matrix - Frequency Values\n",
    "T = {}\n",
    "\n",
    "## order context\n",
    "order = 5\n",
    "\n",
    "for cx in range(len(data) - order):\n",
    "    \n",
    "    cntx = data[cx:cx+order]\n",
    "    \n",
    "    future_val = data[cx+order]\n",
    "    if T.get(cntx) is None:\n",
    "        T[cntx] = {}\n",
    "        T[cntx][future_val] = 1\n",
    "    else:\n",
    "        if T[cntx].get(future_val) is None:\n",
    "            T[cntx][future_val] = 1\n",
    "        else:\n",
    "            T[cntx][future_val] = T[cntx][future_val] + 1"
   ]
  },
  {
   "cell_type": "code",
   "execution_count": 19,
   "metadata": {},
   "outputs": [
    {
     "name": "stdout",
     "output_type": "stream",
     "text": [
      "inal  --- {'c': 1} --- 1.0\n",
      "inal  --- {'c': 1.0} --- 1.0\n",
      "---------------\n",
      "se is --- {' ': 1} --- 1.0\n",
      "se is --- {' ': 1.0} --- 1.0\n",
      "---------------\n",
      "d aft --- {'e': 1} --- 1.0\n",
      "d aft --- {'e': 1.0} --- 1.0\n",
      "---------------\n",
      "ur al --- {'i': 1} --- 1.0\n",
      "ur al --- {'i': 1.0} --- 1.0\n",
      "---------------\n",
      "m wro --- {'n': 1} --- 1.0\n",
      "m wro --- {'n': 1.0} --- 1.0\n",
      "---------------\n"
     ]
    }
   ],
   "source": [
    "## Transition Matrix Probabilities\n",
    "count = 0\n",
    "for key in T.keys():\n",
    "    if count>4:\n",
    "        break\n",
    "    count+=1\n",
    "    possible = T[key]\n",
    "    \n",
    "    total = float(sum(T[key].values()))\n",
    "    print key, \"---\", T[key], \"---\", total\n",
    "    \n",
    "    for k in T[key].keys():\n",
    "        T[key][k] = T[key][k]/total\n",
    "    \n",
    "    print key, \"---\", T[key], \"---\", total\n",
    "    print \"---------------\""
   ]
  },
  {
   "cell_type": "markdown",
   "metadata": {},
   "source": [
    "# Next Character generation function"
   ]
  },
  {
   "cell_type": "code",
   "execution_count": 20,
   "metadata": {},
   "outputs": [],
   "source": [
    "def generate_next_character(cntx):\n",
    "    possible = T.get(cntx)\n",
    "    \n",
    "    if possible is None:\n",
    "        return ' '\n",
    "    shuffled_keys = possible.keys()\n",
    "    random.shuffle(shuffled_keys)\n",
    "    \n",
    "    r = np.random.random()\n",
    "    #print r\n",
    "    #print shuffled_keys\n",
    "    key_probs = [possible[kx] for kx in shuffled_keys]\n",
    "    #print key_probs\n",
    "    for k in range(len(key_probs)):\n",
    "        if r< key_probs[k]:\n",
    "            return shuffled_keys[k]\n",
    "    return random.choice(shuffled_keys)"
   ]
  },
  {
   "cell_type": "code",
   "execution_count": 27,
   "metadata": {},
   "outputs": [
    {
     "data": {
      "text/plain": [
       "' '"
      ]
     },
     "execution_count": 27,
     "metadata": {},
     "output_type": "execute_result"
    }
   ],
   "source": [
    "generate_next_character('fuc')"
   ]
  },
  {
   "cell_type": "markdown",
   "metadata": {},
   "source": [
    "# Generating a sentence of 100 chars"
   ]
  },
  {
   "cell_type": "code",
   "execution_count": 26,
   "metadata": {},
   "outputs": [
    {
     "name": "stdout",
     "output_type": "stream",
     "text": [
      " probl\n",
      " problems. let his astonish stains. comes of london, a twitch of that even took afternoon to which we walk\n"
     ]
    }
   ],
   "source": [
    "## Main Loop\n",
    "index = int(np.random.random()*(len(data)-order))\n",
    "initial = data[index:index+order]\n",
    "context = initial\n",
    "#print context\n",
    "sentence = ' '+context\n",
    "print sentence\n",
    "num_chars = 100\n",
    "for ix in range(num_chars):\n",
    "    next_char = generate_next_character(context)\n",
    "    sentence+=next_char\n",
    "    context = sentence[-order:]\n",
    "print sentence"
   ]
  },
  {
   "cell_type": "code",
   "execution_count": null,
   "metadata": {},
   "outputs": [],
   "source": []
  },
  {
   "cell_type": "code",
   "execution_count": null,
   "metadata": {},
   "outputs": [],
   "source": []
  }
 ],
 "metadata": {
  "kernelspec": {
   "display_name": "Python 2",
   "language": "python",
   "name": "python2"
  },
  "language_info": {
   "codemirror_mode": {
    "name": "ipython",
    "version": 2
   },
   "file_extension": ".py",
   "mimetype": "text/x-python",
   "name": "python",
   "nbconvert_exporter": "python",
   "pygments_lexer": "ipython2",
   "version": "2.7.12"
  }
 },
 "nbformat": 4,
 "nbformat_minor": 2
}
